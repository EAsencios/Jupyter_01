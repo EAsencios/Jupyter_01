{
 "cells": [
  {
   "cell_type": "code",
   "execution_count": 1,
   "id": "921f5072-bfd4-405f-8198-62c78950745b",
   "metadata": {},
   "outputs": [],
   "source": [
    "C = [('English', 88), ('Science', 90), ('Maths', 97), ('Social sciences', 82)]"
   ]
  },
  {
   "cell_type": "code",
   "execution_count": 2,
   "id": "2198ae54-8c5f-422b-816c-f88a9195b9d7",
   "metadata": {},
   "outputs": [],
   "source": [
    "L = []\n",
    "for e in C:\n",
    "    L.append(e[1])"
   ]
  },
  {
   "cell_type": "code",
   "execution_count": 3,
   "id": "55ef5da7-75d1-41ad-91b3-60085c12d308",
   "metadata": {},
   "outputs": [
    {
     "data": {
      "text/plain": [
       "[88, 90, 97, 82]"
      ]
     },
     "execution_count": 3,
     "metadata": {},
     "output_type": "execute_result"
    }
   ],
   "source": [
    "L"
   ]
  },
  {
   "cell_type": "code",
   "execution_count": 4,
   "id": "b7e5881b-62ac-4276-9154-98f24ee3030d",
   "metadata": {},
   "outputs": [],
   "source": [
    "def matrix_log(M):\n",
    "    Q = []\n",
    "    n = 0\n",
    "\n",
    "    for e in M:\n",
    "        if n < len(M) -1:\n",
    "            q = (M[n]<=M[n+1])\n",
    "            Q.append(q)\n",
    "            n = n + 1\n",
    "    return Q"
   ]
  },
  {
   "cell_type": "code",
   "execution_count": 5,
   "id": "636d8984-ec2d-4c89-a019-609a95e934f5",
   "metadata": {},
   "outputs": [],
   "source": [
    "def tuple_mod (N, nn):\n",
    "    LL = list(L)\n",
    "    x = LL[n]\n",
    "    LL[n] = LL[n +1]\n",
    "    LL[n + 1] = x\n",
    "    L1 = tuple(LL)\n",
    "    return L1"
   ]
  },
  {
   "cell_type": "code",
   "execution_count": 6,
   "id": "fc06be96-d502-40e2-aa59-a033761062c1",
   "metadata": {},
   "outputs": [],
   "source": [
    "z = True\n",
    "while z:\n",
    "    Q = matrix_log(L)\n",
    "    z = False in Q\n",
    "    if z:\n",
    "        n = Q.index(False)\n",
    "        L = tuple_mod(L, n)\n",
    "    else: L"
   ]
  },
  {
   "cell_type": "code",
   "execution_count": 7,
   "id": "58e1a11d-d80c-40d1-9ee9-b753c28ebfc8",
   "metadata": {},
   "outputs": [
    {
     "data": {
      "text/plain": [
       "(82, 88, 90, 97)"
      ]
     },
     "execution_count": 7,
     "metadata": {},
     "output_type": "execute_result"
    }
   ],
   "source": [
    "L"
   ]
  },
  {
   "cell_type": "code",
   "execution_count": 8,
   "id": "4666e614-30e7-4ca5-92dc-45afd5057324",
   "metadata": {},
   "outputs": [],
   "source": [
    "CC = []\n",
    "for r in L:\n",
    "    for e in C:\n",
    "        if e[1]==r:\n",
    "            CC.append(e)"
   ]
  },
  {
   "cell_type": "code",
   "execution_count": 9,
   "id": "57a054cc-4ea1-4440-bd3f-b22b05cf67bd",
   "metadata": {},
   "outputs": [
    {
     "data": {
      "text/plain": [
       "[('Social sciences', 82), ('English', 88), ('Science', 90), ('Maths', 97)]"
      ]
     },
     "execution_count": 9,
     "metadata": {},
     "output_type": "execute_result"
    }
   ],
   "source": [
    "CC"
   ]
  },
  {
   "cell_type": "code",
   "execution_count": null,
   "id": "74af69b3-4a83-47f4-9216-4f3b3224e9a6",
   "metadata": {},
   "outputs": [],
   "source": []
  }
 ],
 "metadata": {
  "kernelspec": {
   "display_name": "Python 3 (ipykernel)",
   "language": "python",
   "name": "python3"
  },
  "language_info": {
   "codemirror_mode": {
    "name": "ipython",
    "version": 3
   },
   "file_extension": ".py",
   "mimetype": "text/x-python",
   "name": "python",
   "nbconvert_exporter": "python",
   "pygments_lexer": "ipython3",
   "version": "3.10.8"
  }
 },
 "nbformat": 4,
 "nbformat_minor": 5
}
